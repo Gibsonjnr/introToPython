{
 "cells": [
  {
   "cell_type": "markdown",
   "metadata": {},
   "source": [
    "# Hello\n",
    "\n",
    "# control Structure"
   ]
  },
  {
   "cell_type": "code",
   "execution_count": 12,
   "metadata": {},
   "outputs": [
    {
     "name": "stdout",
     "output_type": "stream",
     "text": [
      "No Wahala ma guy!!\n"
     ]
    }
   ],
   "source": [
    "Hungry = False\n",
    "if Hungry :\n",
    "    print(\"Get a meal Ye Hungry fellow\")\n",
    "else:\n",
    "    print(\"No Wahala ma guy!!\")"
   ]
  },
  {
   "cell_type": "code",
   "execution_count": 18,
   "metadata": {},
   "outputs": [
    {
     "name": "stdout",
     "output_type": "stream",
     "text": [
      "Take a break!! prolly go play COD\n"
     ]
    }
   ],
   "source": [
    "time = input(\"What time is it =>\")\n",
    "\n",
    "if time == 'morning':\n",
    "    print(\"wake up sleepy head and write some code!\")\n",
    "\n",
    "elif time == \"afternoon\":\n",
    "    print(\"lunch time and write some code!\")\n",
    "else :\n",
    "    print('Take a break!! prolly go play COD')"
   ]
  },
  {
   "cell_type": "code",
   "execution_count": 24,
   "metadata": {},
   "outputs": [
    {
     "name": "stdout",
     "output_type": "stream",
     "text": [
      "Hello Ben\n"
     ]
    }
   ],
   "source": [
    "userName = input(\"Enter your name\")\n",
    "namelist =[\"Shine\" , \"Anthony\" , \"Ben\"]\n",
    "\n",
    "if userName in list:\n",
    "    print(f\"Hello {userName}\")\n",
    "else:\n",
    "    print(\"Nan!\")"
   ]
  },
  {
   "cell_type": "code",
   "execution_count": 27,
   "metadata": {},
   "outputs": [
    {
     "name": "stdout",
     "output_type": "stream",
     "text": [
      "Nothing!!\n"
     ]
    }
   ],
   "source": [
    "getValue = input(\"Enter a Value\")\n",
    "name = \"\"\n",
    "\n",
    "if getValue == name :\n",
    "    print(f\"Hello {getValue}!\")\n",
    "else:\n",
    "    print(\"Nothing!!\")"
   ]
  },
  {
   "cell_type": "markdown",
   "metadata": {},
   "source": [
    "# Day 3    cont.. Control structure"
   ]
  },
  {
   "cell_type": "code",
   "execution_count": 4,
   "metadata": {},
   "outputs": [
    {
     "name": "stdout",
     "output_type": "stream",
     "text": [
      "Hello Ubong, Welcome to today's class\n"
     ]
    }
   ],
   "source": [
    "#Exercise 1\n",
    "getDay = input(\"Enter a lecture  day!!\")\n",
    "Lecture_Days=[\"mon\" , \"tues\" ,\" thurs\" ]\n",
    "if getDay in Lecture_Days :\n",
    "    print(\"Hello Ubong, Welcome to today's class\")\n",
    "else:\n",
    "    print(\"No class today!. Take a break\")"
   ]
  },
  {
   "cell_type": "code",
   "execution_count": 4,
   "metadata": {},
   "outputs": [
    {
     "name": "stdout",
     "output_type": "stream",
     "text": [
      "0\n",
      "1\n",
      "2\n",
      "3\n",
      "4\n",
      "5\n",
      "6\n",
      "7\n",
      "8\n",
      "9\n",
      "10\n",
      "11\n",
      "12\n",
      "13\n",
      "14\n",
      "15\n",
      "16\n",
      "17\n",
      "18\n",
      "19\n",
      "20\n",
      "21\n",
      "22\n",
      "23\n",
      "24\n",
      "25\n",
      "26\n",
      "27\n",
      "28\n",
      "29\n",
      "30\n",
      "31\n",
      "32\n",
      "33\n",
      "34\n",
      "35\n",
      "36\n",
      "37\n",
      "38\n",
      "39\n",
      "40\n",
      "41\n",
      "42\n",
      "43\n",
      "44\n",
      "45\n",
      "46\n",
      "47\n",
      "48\n",
      "49\n",
      "50\n",
      "51\n",
      "52\n",
      "53\n",
      "54\n",
      "55\n",
      "56\n",
      "57\n",
      "58\n",
      "59\n",
      "60\n",
      "61\n",
      "62\n",
      "63\n",
      "64\n",
      "65\n",
      "66\n",
      "67\n",
      "68\n",
      "69\n",
      "70\n",
      "71\n",
      "72\n",
      "73\n",
      "74\n",
      "75\n",
      "76\n",
      "77\n",
      "78\n",
      "79\n",
      "80\n",
      "81\n",
      "82\n",
      "83\n",
      "84\n",
      "85\n",
      "86\n",
      "87\n",
      "88\n",
      "89\n",
      "90\n",
      "91\n",
      "92\n",
      "93\n",
      "94\n",
      "95\n",
      "96\n",
      "97\n",
      "98\n",
      "99\n",
      "100\n"
     ]
    }
   ],
   "source": [
    "#WHILE LOOP!\n",
    "\n",
    "count = 0\n",
    "while count <= 100:\n",
    "    print(count)\n",
    "    count += 1\n",
    "    "
   ]
  },
  {
   "cell_type": "code",
   "execution_count": 5,
   "metadata": {},
   "outputs": [
    {
     "name": "stdout",
     "output_type": "stream",
     "text": [
      "10\n",
      "9\n",
      "8\n",
      "7\n",
      "6\n",
      "5\n",
      "4\n",
      "3\n",
      "2\n",
      "1\n"
     ]
    }
   ],
   "source": [
    "num = 10\n",
    "while num > 0:\n",
    "    print(num)\n",
    "    num -=1"
   ]
  },
  {
   "cell_type": "code",
   "execution_count": 2,
   "metadata": {},
   "outputs": [
    {
     "name": "stdout",
     "output_type": "stream",
     "text": [
      "Welcome guest 1\n",
      "Welcome guest 2\n",
      "Welcome guest 3\n",
      "Welcome guest 4\n",
      "Welcome guest 5\n",
      "Welcome guest 6\n",
      "Welcome guest 7\n",
      "Welcome guest 8\n",
      "Welcome guest 9\n",
      "Welcome guest 10\n"
     ]
    }
   ],
   "source": [
    "guest = 1\n",
    "while guest <= 10:\n",
    "    print(f\"Welcome guest {guest}\")\n",
    "    guest += 1"
   ]
  },
  {
   "cell_type": "code",
   "execution_count": 6,
   "metadata": {},
   "outputs": [
    {
     "name": "stdout",
     "output_type": "stream",
     "text": [
      "0 is an Even number!\n",
      "1 is an Odd number!\n",
      "2 is an Even number!\n",
      "3 is an Odd number!\n",
      "4 is an Even number!\n",
      "5 is an Odd number!\n",
      "6 is an Even number!\n",
      "7 is an Odd number!\n",
      "8 is an Even number!\n",
      "9 is an Odd number!\n",
      "10 is an Even number!\n",
      "11 is an Odd number!\n",
      "12 is an Even number!\n",
      "13 is an Odd number!\n",
      "14 is an Even number!\n",
      "15 is an Odd number!\n",
      "16 is an Even number!\n",
      "17 is an Odd number!\n",
      "18 is an Even number!\n",
      "19 is an Odd number!\n",
      "20 is an Even number!\n",
      "21 is an Odd number!\n",
      "22 is an Even number!\n",
      "23 is an Odd number!\n",
      "24 is an Even number!\n",
      "25 is an Odd number!\n",
      "26 is an Even number!\n",
      "27 is an Odd number!\n",
      "28 is an Even number!\n",
      "29 is an Odd number!\n",
      "30 is an Even number!\n",
      "31 is an Odd number!\n",
      "32 is an Even number!\n",
      "33 is an Odd number!\n",
      "34 is an Even number!\n",
      "35 is an Odd number!\n",
      "36 is an Even number!\n",
      "37 is an Odd number!\n",
      "38 is an Even number!\n",
      "39 is an Odd number!\n",
      "40 is an Even number!\n",
      "41 is an Odd number!\n",
      "42 is an Even number!\n",
      "43 is an Odd number!\n",
      "44 is an Even number!\n",
      "45 is an Odd number!\n",
      "46 is an Even number!\n",
      "47 is an Odd number!\n",
      "48 is an Even number!\n",
      "49 is an Odd number!\n",
      "50 is an Even number!\n",
      "51 is an Odd number!\n",
      "52 is an Even number!\n",
      "53 is an Odd number!\n",
      "54 is an Even number!\n",
      "55 is an Odd number!\n",
      "56 is an Even number!\n",
      "57 is an Odd number!\n",
      "58 is an Even number!\n",
      "59 is an Odd number!\n",
      "60 is an Even number!\n",
      "61 is an Odd number!\n",
      "62 is an Even number!\n",
      "63 is an Odd number!\n",
      "64 is an Even number!\n",
      "65 is an Odd number!\n",
      "66 is an Even number!\n",
      "67 is an Odd number!\n",
      "68 is an Even number!\n",
      "69 is an Odd number!\n",
      "70 is an Even number!\n",
      "71 is an Odd number!\n",
      "72 is an Even number!\n",
      "73 is an Odd number!\n",
      "74 is an Even number!\n",
      "75 is an Odd number!\n",
      "76 is an Even number!\n",
      "77 is an Odd number!\n",
      "78 is an Even number!\n",
      "79 is an Odd number!\n",
      "80 is an Even number!\n",
      "81 is an Odd number!\n",
      "82 is an Even number!\n",
      "83 is an Odd number!\n",
      "84 is an Even number!\n",
      "85 is an Odd number!\n",
      "86 is an Even number!\n",
      "87 is an Odd number!\n",
      "88 is an Even number!\n",
      "89 is an Odd number!\n",
      "90 is an Even number!\n",
      "91 is an Odd number!\n",
      "92 is an Even number!\n",
      "93 is an Odd number!\n",
      "94 is an Even number!\n",
      "95 is an Odd number!\n",
      "96 is an Even number!\n",
      "97 is an Odd number!\n",
      "98 is an Even number!\n",
      "99 is an Odd number!\n",
      "100 is an Even number!\n"
     ]
    }
   ],
   "source": [
    "number = 0\n",
    "while 100 >= number:\n",
    "    if number % 2 == 0:\n",
    "        print(f\"{number} is an Even number!\")\n",
    "    else:\n",
    "        print(f\"{number} is an Odd number!\")\n",
    "    number += 1"
   ]
  },
  {
   "cell_type": "code",
   "execution_count": 8,
   "metadata": {},
   "outputs": [
    {
     "name": "stdout",
     "output_type": "stream",
     "text": [
      "Samuel has been removed from the list\n",
      "Ben has been removed from the list\n",
      "Esther has been removed from the list\n",
      "Ubong has been removed from the list\n",
      "Shine has been removed from the list\n",
      "BlaQ has been removed from the list\n"
     ]
    }
   ],
   "source": [
    "#working with an array!\n",
    "#Using .pop()\n",
    "\n",
    "getName = [\"BlaQ\" , \"Shine\" , \"Ubong\" , \"Esther\" , \"Ben\" , \"Samuel\"]\n",
    "while getName:\n",
    "    popName = getName.pop()\n",
    "    print(f\"{popName} has been removed from the list\")\n",
    "    \n"
   ]
  },
  {
   "cell_type": "code",
   "execution_count": null,
   "metadata": {},
   "outputs": [],
   "source": []
  },
  {
   "cell_type": "markdown",
   "metadata": {},
   "source": [
    "# FOR LOOP"
   ]
  },
  {
   "cell_type": "code",
   "execution_count": 20,
   "metadata": {},
   "outputs": [
    {
     "name": "stdout",
     "output_type": "stream",
     "text": [
      "BlaQ , You are invited to my party\n",
      "Shine , You are invited to my party\n",
      "Ubong , You are invited to my party\n",
      "Ben , You are invited to my party\n",
      "Samuel , You are invited to my party\n"
     ]
    }
   ],
   "source": [
    "name_list = [\"BlaQ\" , \"Shine\" , \"Ubong\" , \"Esther\" , \"Ben\" , \"Samuel\"]\n",
    "for x in name_list:\n",
    "    #print(x)\n",
    "    if x == \"Esther\":\n",
    "        continue\n",
    "    print(x , \", You are invited to my party\")"
   ]
  },
  {
   "cell_type": "code",
   "execution_count": 12,
   "metadata": {},
   "outputs": [
    {
     "name": "stdout",
     "output_type": "stream",
     "text": [
      "Samuel You are invited to my party\n",
      "Ben You are invited to my party\n",
      "Esther You are invited to my party\n",
      "Ubong You are invited to my party\n",
      "Shine You are invited to my party\n",
      "BlaQ You are invited to my party\n"
     ]
    }
   ],
   "source": [
    "friend = [\"BlaQ\" , \"Shine\" , \"Ubong\" , \"Esther\" , \"Ben\" , \"Samuel\"]\n",
    "while friend:\n",
    "    poplist = friend.pop()\n",
    "    print(f\"{poplist} You are invited to my party\")"
   ]
  },
  {
   "cell_type": "code",
   "execution_count": 1,
   "metadata": {},
   "outputs": [
    {
     "name": "stdout",
     "output_type": "stream",
     "text": [
      "['Hello']\n",
      "['Hello', 'shine']\n",
      "['Hello', 'shine', 'Ben']\n"
     ]
    }
   ],
   "source": [
    "getList = input(\"Enter ... =>\")\n",
    "array = []\n",
    "\n",
    "while getList:\n",
    "    array.append(getList)\n",
    "    print(array)\n",
    "    getList = input()\n"
   ]
  },
  {
   "cell_type": "markdown",
   "metadata": {},
   "source": [
    "# Day 4"
   ]
  },
  {
   "cell_type": "code",
   "execution_count": 24,
   "metadata": {},
   "outputs": [
    {
     "data": {
      "text/plain": [
       "['Dhron',\n",
       " 'BlaQ',\n",
       " 'Savic',\n",
       " 'a',\n",
       " 'b',\n",
       " 'Mfon',\n",
       " 'Kante',\n",
       " 'Ini',\n",
       " ['Shagg', ' Bright', 'Baze'],\n",
       " 'Tony',\n",
       " 'Brain']"
      ]
     },
     "execution_count": 24,
     "metadata": {},
     "output_type": "execute_result"
    }
   ],
   "source": [
    "#LIST \n",
    "friends = [\"Dhron\" , \"BlaQ\" , \"Savic\" , \"Faith\" , \"Kante\" , \"Ini\", [\"Shagg\" , \" Bright\" , \"Baze\"]]\n",
    "friends[-1][1].upper()\n",
    "\n",
    "friends[3] = \"Mfon\"\n",
    "friends.extend([\"Tony\" , \"Brain\"])\n",
    "friends\n",
    "\n",
    "\n",
    "#Slicing\n",
    "friends[0 : 3]\n",
    "friends[0 :6 : 2]\n",
    "friends[2 : ]\n",
    "friends[ 3 : 3] = [\"a\",\"b\"]\n",
    "friends\n"
   ]
  },
  {
   "cell_type": "code",
   "execution_count": 17,
   "metadata": {},
   "outputs": [
    {
     "data": {
      "text/plain": [
       "9789344"
      ]
     },
     "execution_count": 17,
     "metadata": {},
     "output_type": "execute_result"
    }
   ],
   "source": [
    "x = [2,3,4]\n",
    "y = x \n",
    "y.append(5)\n",
    "x\n",
    "y\n",
    "\n",
    "\n",
    "a = 12\n",
    "b = a\n",
    "b += 1\n",
    "a,b\n",
    "\n",
    "\n",
    "age = 12\n",
    "id(age)\n",
    "\n",
    "\n",
    "id(12)"
   ]
  },
  {
   "cell_type": "code",
   "execution_count": 27,
   "metadata": {},
   "outputs": [
    {
     "data": {
      "text/plain": [
       "['Gibson', ' a', 'b', 'c', 'Hello ', 'd', 'e']"
      ]
     },
     "execution_count": 27,
     "metadata": {},
     "output_type": "execute_result"
    }
   ],
   "source": [
    "# insert\n",
    "\n",
    "ListQ = [ \" a\", \"b\" , \"c\" , \"d\" , \"e\"]\n",
    "ListQ.insert( 3 , \"Hello \")\n",
    "ListQ.insert(0 , \"Gibson\")\n",
    "ListQ"
   ]
  },
  {
   "cell_type": "code",
   "execution_count": 34,
   "metadata": {},
   "outputs": [
    {
     "name": "stdout",
     "output_type": "stream",
     "text": [
      "[1, 2, 3, 4, 23, 0, 45, 87, 21, 12, 90]\n",
      "[0, 1, 2, 3, 4, 12, 21, 23, 45, 87, 90]\n"
     ]
    }
   ],
   "source": [
    "#Sorting a List\n",
    "nums = [ 1 , 2 , 3, 4 ,23 , 0 , 45 , 87 ,21, 12 , 90]\n",
    "# nums.sort(reverse=True) #reverse sort the list in a desending order!\n",
    "# nums\n",
    "\n",
    "sortedNumb = sorted(nums)\n",
    "print(nums)\n",
    "print(sortedNumb) "
   ]
  },
  {
   "cell_type": "code",
   "execution_count": 38,
   "metadata": {},
   "outputs": [
    {
     "data": {
      "text/plain": [
       "['Daniel', 'Samuel']"
      ]
     },
     "execution_count": 38,
     "metadata": {},
     "output_type": "execute_result"
    }
   ],
   "source": [
    "#Array Unpacking\n",
    "\n",
    "nameList = [ \"Ubong\" , \"Daniel\" , \"Samuel\"]\n",
    "\n",
    "[Person1 , Person2 , person3] = nameList\n",
    "\n",
    "[first_Person , *secondPerson] = nameList # *(all) assign to the secondPerson \n",
    "\n",
    "Person1\n",
    "secondPerson"
   ]
  },
  {
   "cell_type": "code",
   "execution_count": 44,
   "metadata": {},
   "outputs": [
    {
     "name": "stdout",
     "output_type": "stream",
     "text": [
      "1\n",
      "2\n",
      "3\n",
      "4\n",
      "5\n",
      "6\n",
      "8\n",
      "9\n",
      "10\n",
      "11\n",
      "12\n",
      "13\n"
     ]
    }
   ],
   "source": [
    "Number = [1 ,2 ,3 ,4 ,5 ,6 ,7 ,8 ,9 ,10 ,11 ,12 ,13]\n",
    "\n",
    "for x in Number:\n",
    "    if x == 7 :\n",
    "        continue\n",
    "    print(x)"
   ]
  },
  {
   "cell_type": "code",
   "execution_count": 57,
   "metadata": {},
   "outputs": [
    {
     "name": "stdout",
     "output_type": "stream",
     "text": [
      "can not dividde a number by zero\n",
      "It will always run no matter what!\n"
     ]
    }
   ],
   "source": [
    "#Try an except\n",
    "\n",
    "try:\n",
    "    a = 25 \n",
    "    print(a + 25 /0)\n",
    "\n",
    "except NameError:\n",
    "    print(\"name is undefined\")\n",
    "except ZeroDivisionError:\n",
    "    print(\"can not dividde a number by zero\")\n",
    "except:\n",
    "    print(\"Unknown error occured,check input\")\n",
    "else:\n",
    "    print(\"No error found\")\n",
    "finally:\n",
    "    print(\"It will always run no matter what!\")"
   ]
  }
 ],
 "metadata": {
  "interpreter": {
   "hash": "916dbcbb3f70747c44a77c7bcd40155683ae19c65e1c03b4aa3499c5328201f1"
  },
  "kernelspec": {
   "display_name": "Python 3.8.10 64-bit",
   "name": "python3"
  },
  "language_info": {
   "codemirror_mode": {
    "name": "ipython",
    "version": 3
   },
   "file_extension": ".py",
   "mimetype": "text/x-python",
   "name": "python",
   "nbconvert_exporter": "python",
   "pygments_lexer": "ipython3",
   "version": "3.8.10"
  },
  "orig_nbformat": 4
 },
 "nbformat": 4,
 "nbformat_minor": 2
}
